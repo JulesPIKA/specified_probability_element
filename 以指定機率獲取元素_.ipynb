{
  "nbformat": 4,
  "nbformat_minor": 0,
  "metadata": {
    "colab": {
      "name": "以指定機率獲取元素 .ipynb",
      "provenance": [],
      "collapsed_sections": [],
      "authorship_tag": "ABX9TyOcWLDenCyTOpz71keqHO+Q",
      "include_colab_link": true
    },
    "kernelspec": {
      "name": "python3",
      "display_name": "Python 3"
    }
  },
  "cells": [
    {
      "cell_type": "markdown",
      "metadata": {
        "id": "view-in-github",
        "colab_type": "text"
      },
      "source": [
        "<a href=\"https://colab.research.google.com/github/JulesPIKA/specified_probability_element/blob/main/%E4%BB%A5%E6%8C%87%E5%AE%9A%E6%A9%9F%E7%8E%87%E7%8D%B2%E5%8F%96%E5%85%83%E7%B4%A0_.ipynb\" target=\"_parent\"><img src=\"https://colab.research.google.com/assets/colab-badge.svg\" alt=\"Open In Colab\"/></a>"
      ]
    },
    {
      "cell_type": "code",
      "metadata": {
        "id": "4TfLJyX0M4GG"
      },
      "source": [
        " import random"
      ],
      "execution_count": 40,
      "outputs": []
    },
    {
      "cell_type": "code",
      "metadata": {
        "id": "LHPlqJW2M8g8",
        "outputId": "6af3c605-e443-4341-9820-c6bf8c6bc7e5",
        "colab": {
          "base_uri": "https://localhost:8080/",
          "height": 37
        }
      },
      "source": [
        "def random_pick(seq, probabilities):\n",
        "  x = random.uniform(0,1)\n",
        "  cumulative_prob = 0.0\n",
        "  for item, item_prob in zip(seq, probabilities):\n",
        "      cumulative_prob+=item_prob\n",
        "      if x < cumulative_prob:\n",
        "          break\n",
        "  return item\n",
        "Ans=[]\n",
        "for i in range(10):\n",
        "  pick_list = [\"a\",\"b\",\"c\",\"d\"] \n",
        "  probabilities = [0.2,0.1,0.6,0.1] \n",
        "  Ans_t=random_pick(pick_list,probabilities)\n",
        "  Ans+=Ans_t\n",
        "Ans"
      ],
      "execution_count": 58,
      "outputs": [
        {
          "output_type": "execute_result",
          "data": {
            "text/plain": [
              "['b', 'a', 'c', 'c', 'c', 'c', 'a', 'b', 'a', 'd']"
            ]
          },
          "metadata": {
            "tags": []
          },
          "execution_count": 58
        }
      ]
    },
    {
      "cell_type": "code",
      "metadata": {
        "id": "gjiA4jNkM8ui"
      },
      "source": [
        ""
      ],
      "execution_count": null,
      "outputs": []
    },
    {
      "cell_type": "code",
      "metadata": {
        "id": "BB5QQQwTM8x8"
      },
      "source": [
        ""
      ],
      "execution_count": null,
      "outputs": []
    },
    {
      "cell_type": "code",
      "metadata": {
        "id": "P9sGj7PYM81q"
      },
      "source": [
        ""
      ],
      "execution_count": null,
      "outputs": []
    }
  ]
}